{
  "nbformat": 4,
  "nbformat_minor": 0,
  "metadata": {
    "colab": {
      "name": "FortranTest.ipynb",
      "provenance": [],
      "authorship_tag": "ABX9TyOKNMbDIkgObQUNAceZ7vuF",
      "include_colab_link": true
    },
    "kernelspec": {
      "name": "python3",
      "display_name": "Python 3"
    }
  },
  "cells": [
    {
      "cell_type": "markdown",
      "metadata": {
        "id": "view-in-github",
        "colab_type": "text"
      },
      "source": [
        "<a href=\"https://colab.research.google.com/github/RJNemiroff/ExpandingCircle/blob/master/FortranTest.ipynb\" target=\"_parent\"><img src=\"https://colab.research.google.com/assets/colab-badge.svg\" alt=\"Open In Colab\"/></a>"
      ]
    },
    {
      "cell_type": "code",
      "metadata": {
        "colab": {
          "base_uri": "https://localhost:8080/"
        },
        "id": "l7yBclmqE046",
        "outputId": "7536abf7-673e-487e-ab8b-e5fef78585f8"
      },
      "source": [
        "%%file FortranTest.f\n",
        "C File FortranTest.f\n",
        "c  This is a test program in FORTRAN\n",
        "       subroutine FortranTest (n)\n",
        "       integer*4 n\n",
        "       real*8 num\n",
        "       num=dble(n)\n",
        "       write (*,*) ' Hello World from FORTRAN! ', num\n",
        "       end"
      ],
      "execution_count": null,
      "outputs": [
        {
          "output_type": "stream",
          "text": [
            "Overwriting FortranTest.f\n"
          ],
          "name": "stdout"
        }
      ]
    },
    {
      "cell_type": "code",
      "metadata": {
        "id": "JwNh2l4pFetI"
      },
      "source": [
        "!f2py -c -m FortranTest FortranTest.f"
      ],
      "execution_count": null,
      "outputs": []
    },
    {
      "cell_type": "code",
      "metadata": {
        "colab": {
          "base_uri": "https://localhost:8080/"
        },
        "id": "Ah3HARi7G2Tl",
        "outputId": "77e0bb1f-f2bd-4260-dbb7-e1609614f1e7"
      },
      "source": [
        "%%file FortranTest.py\n",
        "import FortranTest as ft\n",
        "ft.fortrantest(8)"
      ],
      "execution_count": null,
      "outputs": [
        {
          "output_type": "stream",
          "text": [
            "Overwriting FortranTest.py\n"
          ],
          "name": "stdout"
        }
      ]
    },
    {
      "cell_type": "code",
      "metadata": {
        "id": "-LG18T_5HYSi",
        "colab": {
          "base_uri": "https://localhost:8080/"
        },
        "outputId": "0300dbeb-2655-432f-eb7f-6706281bc6a2"
      },
      "source": [
        "!python FortranTest.py"
      ],
      "execution_count": null,
      "outputs": [
        {
          "output_type": "stream",
          "text": [
            "  Hello World from FORTRAN!    8.0000000000000000     \n"
          ],
          "name": "stdout"
        }
      ]
    },
    {
      "cell_type": "markdown",
      "metadata": {
        "id": "ukBpInS75H9A"
      },
      "source": [
        "# Testing my own FORTRAN code\n"
      ]
    },
    {
      "cell_type": "code",
      "metadata": {
        "id": "_nv0bJ7W7C9T",
        "colab": {
          "base_uri": "https://localhost:8080/"
        },
        "outputId": "21ab00ad-bce9-4e45-df33-182f90e2af72"
      },
      "source": [
        "%%file Hellofortran.f\n",
        "C File  hellofortran.f\n",
        "        subroutine hellofortran (n)\n",
        "        integer*4 n\n",
        "c\n",
        "        n=3       \n",
        "        do 100 i=1, n\n",
        "            print *, \"Fortran says hello\"\n",
        "100     continue\n",
        "        end"
      ],
      "execution_count": 10,
      "outputs": [
        {
          "output_type": "stream",
          "text": [
            "Overwriting Hellofortran.f\n"
          ],
          "name": "stdout"
        }
      ]
    },
    {
      "cell_type": "code",
      "metadata": {
        "id": "buOyD9KtKs33"
      },
      "source": [
        "!f2py -c -m hellofortran Hellofortran.f"
      ],
      "execution_count": null,
      "outputs": []
    },
    {
      "cell_type": "code",
      "metadata": {
        "id": "rJn4jIFd7C9U",
        "colab": {
          "base_uri": "https://localhost:8080/"
        },
        "outputId": "aa9ced1d-0451-40d9-a2a3-79d369515de8"
      },
      "source": [
        "%%file hellofortran.py\n",
        "import hellofortran\n",
        "\n",
        "hellofortran.hellofortran(3)"
      ],
      "execution_count": 12,
      "outputs": [
        {
          "output_type": "stream",
          "text": [
            "Overwriting hellofortran.py\n"
          ],
          "name": "stdout"
        }
      ]
    },
    {
      "cell_type": "code",
      "metadata": {
        "id": "McZJ7zVy7C9U",
        "colab": {
          "base_uri": "https://localhost:8080/"
        },
        "outputId": "4c14c45a-79c1-4e05-db5a-0ea72a8dcba2"
      },
      "source": [
        "# run the script\n",
        "!python hellofortran.py"
      ],
      "execution_count": 13,
      "outputs": [
        {
          "output_type": "stream",
          "text": [
            " Fortran says hello\n",
            " Fortran says hello\n",
            " Fortran says hello\n"
          ],
          "name": "stdout"
        }
      ]
    },
    {
      "cell_type": "markdown",
      "metadata": {
        "id": "prkrHVEomRBF"
      },
      "source": [
        "### Testing GaussRand.for\n"
      ]
    },
    {
      "cell_type": "code",
      "metadata": {
        "colab": {
          "base_uri": "https://localhost:8080/"
        },
        "id": "MDKQuGb-mYAa",
        "outputId": "7f73796f-56c0-4521-c5a4-c3e79fc04d85"
      },
      "source": [
        "%%file GaussRand.for\n",
        "c  Test program simply computes Gaussian random numbers from uniform.\n",
        "       Subroutine GaussRand (n)\n",
        "c\n",
        "       real*8 seed, pi\n",
        "       real*8 u1, u2, r, theta, x, y\n",
        "       integer*4 i, n\n",
        "c                                  See:\n",
        "c             https://www.doc.ic.ac.uk/~wl/papers/07/csur07dt.pdf\n",
        "       seed=0.5d0\n",
        "       pi=dacos(-1.0d0)\n",
        "c\n",
        "       do 200 i=1, 10\n",
        "       call random_number(seed)\n",
        "       u1=seed\n",
        "       call random_number(seed)\n",
        "       u2=seed\n",
        "c                                    Box Mueller transform\n",
        "       r=sqrt(-2.0d0*log(u1))\n",
        "       theta=2.0d0*pi*u2\n",
        "c\n",
        "       x=r * sin(theta)\n",
        "       y=r * cos(theta)\n",
        "c\n",
        "       write (*,*) ' u1, u2 = ', u1, u2\n",
        "       write (*,*) ' r, th = ', r, theta\n",
        "       write (*,*) ' x, y = ', x, y\n",
        "       write (*,*)\n",
        " 200   continue \n",
        "c                                    Again with compact code.\n",
        "       call srand(0)\n",
        "       x=sqrt(-2.0d0*log(rand(0)))*sin(2.0d0*pi*rand(0))\n",
        "       write (*,*) ' Function call: ', x\n",
        "       x=sqrt(-2.0d0*log(rand(0)))*sin(2.0d0*pi*rand(0))\n",
        "       write (*,*) ' Function call: ', x\n",
        "c                                    End the madness.\n",
        " 999   stop\n",
        "       end"
      ],
      "execution_count": 32,
      "outputs": [
        {
          "output_type": "stream",
          "text": [
            "Overwriting GaussRand.for\n"
          ],
          "name": "stdout"
        }
      ]
    },
    {
      "cell_type": "code",
      "metadata": {
        "id": "xyAnvawtnD9Z"
      },
      "source": [
        "!f2py -c -m gaussrand GaussRand.for"
      ],
      "execution_count": null,
      "outputs": []
    },
    {
      "cell_type": "code",
      "metadata": {
        "id": "crwO1Og7pkiS"
      },
      "source": [
        ""
      ],
      "execution_count": null,
      "outputs": []
    },
    {
      "cell_type": "code",
      "metadata": {
        "colab": {
          "base_uri": "https://localhost:8080/"
        },
        "id": "_S7FtZRWnaaw",
        "outputId": "59de06d9-9dbb-4c82-ae00-46a23d7f6d73"
      },
      "source": [
        "%%file gaussrand.py\n",
        "import gaussrand\n",
        "\n",
        "gaussrand.gaussrand(3)"
      ],
      "execution_count": 34,
      "outputs": [
        {
          "output_type": "stream",
          "text": [
            "Overwriting gaussrand.py\n"
          ],
          "name": "stdout"
        }
      ]
    },
    {
      "cell_type": "code",
      "metadata": {
        "colab": {
          "base_uri": "https://localhost:8080/"
        },
        "id": "T5naIQSfnqrI",
        "outputId": "8a7282e5-44ca-45c7-a2fd-2c50a997e958"
      },
      "source": [
        "!python gaussrand.py"
      ],
      "execution_count": 35,
      "outputs": [
        {
          "output_type": "stream",
          "text": [
            "  u1, u2 =   0.49252905866173191       0.68765264533567783     \n",
            "  r, th =    1.1901275711046422        4.3206489976163063     \n",
            "  x, y =   -1.0999708122738479      -0.45438733218372906     \n",
            "\n",
            "  u1, u2 =   0.22087084887409059       0.37271936857245713     \n",
            "  r, th =    1.7379166507770936        2.3418648603157153     \n",
            "  x, y =    1.2463754558710474       -1.2111575075317451     \n",
            "\n",
            "  u1, u2 =   0.34349839843662489       0.80354673884884953     \n",
            "  r, th =    1.4618979648490897        5.0488330631671632     \n",
            "  x, y =   -1.3799360051615599       0.48262022469915822     \n",
            "\n",
            "  u1, u2 =   0.54714202679964619       0.82737360216925171     \n",
            "  r, th =    1.0982229859754968        5.1985416606980905     \n",
            "  x, y =  -0.97097954573980183       0.51312030624392968     \n",
            "\n",
            "  u1, u2 =   0.53172224391147127       0.15064762748092420     \n",
            "  r, th =    1.1239519775255815       0.94654695954960655     \n",
            "  x, y =   0.91197697707501513       0.65693686231538462     \n",
            "\n",
            "  u1, u2 =   0.29616008504249902       0.40894859404490258     \n",
            "  r, th =    1.5600353476806015        2.5694997974946809     \n",
            "  x, y =   0.84459197241811090       -1.3116305448333461     \n",
            "\n",
            "  u1, u2 =   0.49919651622910488       0.64371230042713246     \n",
            "  r, th =    1.1787751614782125        4.0445636680945301     \n",
            "  x, y =  -0.92553920233014886      -0.72999182616523706     \n",
            "\n",
            "  u1, u2 =   0.19848336084043439       0.45090158502884592     \n",
            "  r, th =    1.7983603681408236        2.8330982140372316     \n",
            "  x, y =   0.54602625948509131       -1.7134629665249024     \n",
            "\n",
            "  u1, u2 =   0.59833817698817671        9.7910908334861935E-002\n",
            "  r, th =    1.0135079393036546       0.61519238066221182     \n",
            "  x, y =   0.58491128610147181       0.82769386274314161     \n",
            "\n",
            "  u1, u2 =   0.25302575898495783       0.30018507841724884     \n",
            "  r, th =    1.6578684997716397        1.8861184741458099     \n",
            "  x, y =    1.5761298183639065      -0.51414274107413638     \n",
            "\n",
            "  Function call:   0.14227352864441381     \n",
            "  Function call:   0.70771361611101802     \n"
          ],
          "name": "stdout"
        }
      ]
    }
  ]
}